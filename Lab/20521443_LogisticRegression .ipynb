{
  "nbformat": 4,
  "nbformat_minor": 0,
  "metadata": {
    "colab": {
      "name": "20521443_LogisticRegression",
      "provenance": [],
      "collapsed_sections": []
    },
    "kernelspec": {
      "name": "python3",
      "display_name": "Python 3"
    },
    "language_info": {
      "name": "python"
    }
  },
  "cells": [
    {
      "cell_type": "code",
      "metadata": {
        "id": "9HvHZw523vBQ"
      },
      "source": [
        "import pandas as pd\n",
        "import numpy as np\n",
        "import matplotlib.pyplot as plt\n",
        "import seaborn as sns\n",
        "import sklearn\n",
        "from sklearn.model_selection import train_test_split\n",
        "import cv2\n",
        "from google.colab.patches import cv2_imshow\n",
        "import os\n",
        "from skimage.feature import hog"
      ],
      "execution_count": 35,
      "outputs": []
    },
    {
      "cell_type": "code",
      "metadata": {
        "id": "CALLZWZ64_bD"
      },
      "source": [
        "X_data=list()\n",
        "y_data=list()"
      ],
      "execution_count": 36,
      "outputs": []
    },
    {
      "cell_type": "code",
      "metadata": {
        "colab": {
          "base_uri": "https://localhost:8080/"
        },
        "id": "cI5cdiny5ExW",
        "outputId": "6f2ebcfc-69ac-4264-e022-8e280692291e"
      },
      "source": [
        "%cd /content/drive/MyDrive/Untitled folder/folio"
      ],
      "execution_count": 37,
      "outputs": [
        {
          "output_type": "stream",
          "name": "stdout",
          "text": [
            "/content/drive/MyDrive/Untitled folder/folio\n"
          ]
        }
      ]
    },
    {
      "cell_type": "code",
      "metadata": {
        "colab": {
          "base_uri": "https://localhost:8080/"
        },
        "id": "j-QQ6kOn5Ln1",
        "outputId": "ae16efec-aa2e-40a1-d2ee-d7f7b37d1cd6"
      },
      "source": [
        "name = os.listdir()\n",
        "print(name)"
      ],
      "execution_count": 38,
      "outputs": [
        {
          "output_type": "stream",
          "name": "stdout",
          "text": [
            "['ashanti blood', 'barbados cherry', 'betel', 'bitter orange', 'caricature plant', 'coeur demoiselle', 'coffee', 'croton', 'jackfruit', 'mulberry leaf']\n"
          ]
        }
      ]
    },
    {
      "cell_type": "code",
      "metadata": {
        "colab": {
          "base_uri": "https://localhost:8080/"
        },
        "id": "DLytuBcf5qJt",
        "outputId": "c9c4fa7b-4cc4-4569-9dfe-d929865bdd8e"
      },
      "source": [
        "y = list(range(len(name)))\n",
        "print(y)\n",
        "converter = dict(zip(name, y))\n",
        "print(converter)"
      ],
      "execution_count": 39,
      "outputs": [
        {
          "output_type": "stream",
          "name": "stdout",
          "text": [
            "[0, 1, 2, 3, 4, 5, 6, 7, 8, 9]\n",
            "{'ashanti blood': 0, 'barbados cherry': 1, 'betel': 2, 'bitter orange': 3, 'caricature plant': 4, 'coeur demoiselle': 5, 'coffee': 6, 'croton': 7, 'jackfruit': 8, 'mulberry leaf': 9}\n"
          ]
        }
      ]
    },
    {
      "cell_type": "code",
      "metadata": {
        "id": "O404n_r05wIo"
      },
      "source": [
        "def resize(image):\n",
        "  return cv2.resize(image, (int(image.shape[1]*0.1), int(image.shape[0]*0.1)))"
      ],
      "execution_count": 40,
      "outputs": []
    },
    {
      "cell_type": "code",
      "metadata": {
        "colab": {
          "base_uri": "https://localhost:8080/"
        },
        "id": "Se8EVP9d50EE",
        "outputId": "20082e61-ab11-4e2d-d704-a05fbcc18dfa"
      },
      "source": [
        "i = -1\n",
        "for class_name in os.listdir(): \n",
        "    i = i + 1 \n",
        "    X=list()\n",
        "    print(name[i])\n",
        "    \n",
        "    for img_name in os.listdir(class_name): \n",
        "        img = cv2.imread(os.path.join('/content/drive/MyDrive/Untitled folder/folio',class_name, img_name), 0)\n",
        "        img = resize(img)\n",
        "        X.append(img)\n",
        "    print(\"Done\")\n",
        "    X_data.extend(X)\n",
        "    y_data.extend([i]*len(X))"
      ],
      "execution_count": 41,
      "outputs": [
        {
          "output_type": "stream",
          "name": "stdout",
          "text": [
            "ashanti blood\n",
            "Done\n",
            "barbados cherry\n",
            "Done\n",
            "betel\n",
            "Done\n",
            "bitter orange\n",
            "Done\n",
            "caricature plant\n",
            "Done\n",
            "coeur demoiselle\n",
            "Done\n",
            "coffee\n",
            "Done\n",
            "croton\n",
            "Done\n",
            "jackfruit\n",
            "Done\n",
            "mulberry leaf\n",
            "Done\n"
          ]
        }
      ]
    },
    {
      "cell_type": "code",
      "metadata": {
        "colab": {
          "base_uri": "https://localhost:8080/"
        },
        "id": "CJy355Bj57cX",
        "outputId": "aada1f1f-34b4-46c5-c362-54334bb96ccd"
      },
      "source": [
        "print(len(X_data))\n",
        "print(len(y_data))"
      ],
      "execution_count": 42,
      "outputs": [
        {
          "output_type": "stream",
          "name": "stdout",
          "text": [
            "199\n",
            "199\n"
          ]
        }
      ]
    },
    {
      "cell_type": "code",
      "metadata": {
        "id": "9J3SHhur6s0l"
      },
      "source": [
        "X_data=np.array(X_data)\n",
        "y_data=np.array(y_data)"
      ],
      "execution_count": 43,
      "outputs": []
    },
    {
      "cell_type": "code",
      "metadata": {
        "colab": {
          "base_uri": "https://localhost:8080/"
        },
        "id": "uFXOOxbo6u46",
        "outputId": "393be2f8-fa2e-4511-c679-6338e05509ab"
      },
      "source": [
        "print(X_data.shape)"
      ],
      "execution_count": 44,
      "outputs": [
        {
          "output_type": "stream",
          "name": "stdout",
          "text": [
            "(199, 412, 232)\n"
          ]
        }
      ]
    },
    {
      "cell_type": "code",
      "metadata": {
        "id": "tHxeCaB067RK"
      },
      "source": [
        "X_train,X_test,y_train,y_test= train_test_split(X_data, y_data,test_size=0.3, random_state = 1)"
      ],
      "execution_count": 45,
      "outputs": []
    },
    {
      "cell_type": "code",
      "metadata": {
        "colab": {
          "base_uri": "https://localhost:8080/"
        },
        "id": "7W1IoCJr7ChQ",
        "outputId": "6523c9c1-eac1-4af6-bba9-984aa77d22b4"
      },
      "source": [
        "X_train"
      ],
      "execution_count": 46,
      "outputs": [
        {
          "output_type": "execute_result",
          "data": {
            "text/plain": [
              "array([[[255, 255, 255, ..., 242, 239, 245],\n",
              "        [255, 255, 253, ..., 242, 241, 238],\n",
              "        [255, 255, 255, ..., 238, 238, 242],\n",
              "        ...,\n",
              "        [210, 210, 210, ..., 200, 206, 203],\n",
              "        [213, 211, 213, ..., 200, 200, 202],\n",
              "        [208, 213, 209, ..., 205, 202, 199]],\n",
              "\n",
              "       [[232, 231, 231, ..., 226, 223, 223],\n",
              "        [231, 232, 232, ..., 225, 224, 224],\n",
              "        [232, 232, 230, ..., 224, 224, 225],\n",
              "        ...,\n",
              "        [178, 178, 182, ..., 184, 188, 184],\n",
              "        [182, 182, 178, ..., 184, 184, 183],\n",
              "        [180, 184, 179, ..., 185, 183, 180]],\n",
              "\n",
              "       [[235, 238, 240, ..., 244, 244, 244],\n",
              "        [237, 234, 235, ..., 242, 243, 246],\n",
              "        [234, 234, 236, ..., 245, 245, 247],\n",
              "        ...,\n",
              "        [201, 197, 199, ..., 180, 177, 172],\n",
              "        [199, 200, 200, ..., 171, 170, 169],\n",
              "        [202, 199, 201, ..., 172, 167, 160]],\n",
              "\n",
              "       ...,\n",
              "\n",
              "       [[255, 255, 255, ..., 255, 255, 255],\n",
              "        [255, 255, 255, ..., 255, 255, 255],\n",
              "        [255, 255, 255, ..., 255, 255, 255],\n",
              "        ...,\n",
              "        [255, 255, 255, ..., 255, 255, 255],\n",
              "        [255, 255, 255, ..., 255, 255, 255],\n",
              "        [255, 255, 255, ..., 255, 255, 255]],\n",
              "\n",
              "       [[236, 237, 236, ..., 229, 228, 229],\n",
              "        [237, 236, 236, ..., 229, 228, 231],\n",
              "        [236, 237, 236, ..., 228, 228, 230],\n",
              "        ...,\n",
              "        [187, 190, 188, ..., 188, 197, 191],\n",
              "        [188, 189, 187, ..., 191, 191, 194],\n",
              "        [192, 192, 186, ..., 190, 188, 187]],\n",
              "\n",
              "       [[248, 249, 250, ..., 244, 242, 242],\n",
              "        [250, 248, 250, ..., 241, 242, 242],\n",
              "        [250, 250, 251, ..., 242, 240, 241],\n",
              "        ...,\n",
              "        [190, 196, 196, ..., 198, 203, 197],\n",
              "        [192, 194, 195, ..., 199, 197, 198],\n",
              "        [192, 193, 195, ..., 195, 197, 199]]], dtype=uint8)"
            ]
          },
          "metadata": {},
          "execution_count": 46
        }
      ]
    },
    {
      "cell_type": "code",
      "metadata": {
        "colab": {
          "base_uri": "https://localhost:8080/"
        },
        "id": "bJTrTmk27G-k",
        "outputId": "dbf1d385-bfd6-4a42-a16d-045a61ffc548"
      },
      "source": [
        "y_train"
      ],
      "execution_count": 47,
      "outputs": [
        {
          "output_type": "execute_result",
          "data": {
            "text/plain": [
              "array([6, 4, 2, 0, 0, 9, 3, 2, 3, 2, 6, 5, 9, 8, 5, 0, 5, 6, 5, 7, 4, 4,\n",
              "       5, 8, 0, 4, 7, 8, 2, 4, 1, 8, 9, 7, 5, 4, 9, 5, 8, 3, 1, 4, 7, 0,\n",
              "       3, 4, 9, 0, 9, 0, 7, 3, 3, 2, 6, 4, 9, 2, 3, 3, 4, 9, 7, 8, 4, 8,\n",
              "       9, 9, 0, 1, 4, 7, 5, 6, 1, 6, 0, 8, 5, 7, 6, 5, 9, 3, 0, 2, 8, 5,\n",
              "       4, 2, 1, 3, 2, 1, 0, 8, 2, 7, 6, 9, 1, 6, 5, 8, 0, 3, 6, 0, 2, 1,\n",
              "       3, 3, 0, 9, 7, 4, 4, 3, 2, 7, 7, 7, 6, 7, 5, 1, 8, 1, 6, 3, 6, 7,\n",
              "       9, 3, 6, 6, 3, 7, 1])"
            ]
          },
          "metadata": {},
          "execution_count": 47
        }
      ]
    },
    {
      "cell_type": "code",
      "metadata": {
        "colab": {
          "base_uri": "https://localhost:8080/"
        },
        "id": "68REHRS57JnZ",
        "outputId": "e6327a27-54e3-42bb-869e-d75036fefa81"
      },
      "source": [
        "print(X_train.shape)\n",
        "print(len(y_train))"
      ],
      "execution_count": 48,
      "outputs": [
        {
          "output_type": "stream",
          "name": "stdout",
          "text": [
            "(139, 412, 232)\n",
            "139\n"
          ]
        }
      ]
    },
    {
      "cell_type": "code",
      "metadata": {
        "id": "cbqkOLBZ7Z-8"
      },
      "source": [
        "def convert_to_1D (image):\n",
        "  return np.reshape(image, image.shape[0] * image.shape[1])"
      ],
      "execution_count": 49,
      "outputs": []
    },
    {
      "cell_type": "code",
      "metadata": {
        "id": "9Ay72HgI7d2w"
      },
      "source": [
        "X_train_pixel=list()"
      ],
      "execution_count": 50,
      "outputs": []
    },
    {
      "cell_type": "code",
      "metadata": {
        "id": "u0tRFbC17gMq"
      },
      "source": [
        "for x in X_train:\n",
        "  X_train_pixel.append(convert_to_1D(x))"
      ],
      "execution_count": 51,
      "outputs": []
    },
    {
      "cell_type": "code",
      "metadata": {
        "id": "NEtUDqMY7kQ9"
      },
      "source": [
        "X_test_pixel=list()"
      ],
      "execution_count": 52,
      "outputs": []
    },
    {
      "cell_type": "code",
      "metadata": {
        "id": "euQp7xc87mEW"
      },
      "source": [
        "for x in X_test:\n",
        "  X_test_pixel.append(convert_to_1D(x))"
      ],
      "execution_count": 53,
      "outputs": []
    },
    {
      "cell_type": "code",
      "metadata": {
        "id": "jUDY4eMF7nyz"
      },
      "source": [
        "from sklearn.linear_model import LogisticRegression\n",
        "model_pixel = LogisticRegression(max_iter=10000, random_state=1, n_jobs=2)"
      ],
      "execution_count": 54,
      "outputs": []
    },
    {
      "cell_type": "code",
      "metadata": {
        "colab": {
          "base_uri": "https://localhost:8080/"
        },
        "id": "KykMFfpl7qEP",
        "outputId": "88b22c72-cbf8-4f58-ef5c-c17597ca61ce"
      },
      "source": [
        " model_pixel.fit(X_train_pixel, y_train)"
      ],
      "execution_count": 55,
      "outputs": [
        {
          "output_type": "execute_result",
          "data": {
            "text/plain": [
              "LogisticRegression(C=1.0, class_weight=None, dual=False, fit_intercept=True,\n",
              "                   intercept_scaling=1, l1_ratio=None, max_iter=10000,\n",
              "                   multi_class='auto', n_jobs=2, penalty='l2', random_state=1,\n",
              "                   solver='lbfgs', tol=0.0001, verbose=0, warm_start=False)"
            ]
          },
          "metadata": {},
          "execution_count": 55
        }
      ]
    },
    {
      "cell_type": "code",
      "metadata": {
        "id": "LBDadr2J7sN1"
      },
      "source": [
        "y_pred_pixel = model_pixel.predict(X_test_pixel)"
      ],
      "execution_count": 56,
      "outputs": []
    },
    {
      "cell_type": "code",
      "metadata": {
        "colab": {
          "base_uri": "https://localhost:8080/"
        },
        "id": "RPVq1A4R8VFw",
        "outputId": "c2190f04-fd40-4f30-b286-099639e9cc4f"
      },
      "source": [
        " from sklearn.metrics import accuracy_score, classification_report\n",
        " print('Accuracy:', accuracy_score(y_test, y_pred_pixel))"
      ],
      "execution_count": 57,
      "outputs": [
        {
          "output_type": "stream",
          "name": "stdout",
          "text": [
            "Accuracy: 0.8666666666666667\n"
          ]
        }
      ]
    },
    {
      "cell_type": "code",
      "metadata": {
        "colab": {
          "base_uri": "https://localhost:8080/"
        },
        "id": "yP4-JOKH8Wtt",
        "outputId": "aafd9994-490a-4b51-c847-5e27bf0a3432"
      },
      "source": [
        " print(classification_report(y_test, y_pred_pixel))"
      ],
      "execution_count": 58,
      "outputs": [
        {
          "output_type": "stream",
          "name": "stdout",
          "text": [
            "              precision    recall  f1-score   support\n",
            "\n",
            "           0       0.60      1.00      0.75         6\n",
            "           1       1.00      0.78      0.88         9\n",
            "           2       1.00      0.88      0.93         8\n",
            "           3       1.00      0.67      0.80         3\n",
            "           4       0.83      1.00      0.91         5\n",
            "           5       0.88      1.00      0.93         7\n",
            "           6       0.67      0.80      0.73         5\n",
            "           7       1.00      1.00      1.00         4\n",
            "           8       1.00      0.75      0.86         8\n",
            "           9       1.00      0.80      0.89         5\n",
            "\n",
            "    accuracy                           0.87        60\n",
            "   macro avg       0.90      0.87      0.87        60\n",
            "weighted avg       0.90      0.87      0.87        60\n",
            "\n"
          ]
        }
      ]
    },
    {
      "cell_type": "code",
      "metadata": {
        "id": "dA5v95aY8qFo"
      },
      "source": [
        "def calculate_hog(image):\n",
        "  return hog(image, orientations=9, pixels_per_cell=(16, 16), cells_per_block=(2, 2), block_norm='L2')"
      ],
      "execution_count": 59,
      "outputs": []
    },
    {
      "cell_type": "code",
      "metadata": {
        "id": "UHEYBagX8sFt"
      },
      "source": [
        "X_train_hog=list()"
      ],
      "execution_count": 60,
      "outputs": []
    },
    {
      "cell_type": "code",
      "metadata": {
        "id": "GG6aWciO8txt"
      },
      "source": [
        "for x in X_train:\n",
        "  X_train_hog.append(calculate_hog(x))"
      ],
      "execution_count": 61,
      "outputs": []
    },
    {
      "cell_type": "code",
      "metadata": {
        "id": "hCkJqz_i8vOp"
      },
      "source": [
        "X_test_hog=list()"
      ],
      "execution_count": 62,
      "outputs": []
    },
    {
      "cell_type": "code",
      "metadata": {
        "id": "Y5WaLqZW8yPH"
      },
      "source": [
        "for x in X_test:\n",
        "  X_test_hog.append(calculate_hog(x))"
      ],
      "execution_count": 63,
      "outputs": []
    },
    {
      "cell_type": "code",
      "metadata": {
        "colab": {
          "base_uri": "https://localhost:8080/"
        },
        "id": "2nlVmx3880Qj",
        "outputId": "d93fdd00-f06a-40b0-a903-48cf5db5dbc5"
      },
      "source": [
        "from sklearn.linear_model import LogisticRegression\n",
        "model_hog = LogisticRegression(max_iter=10000, random_state=1, n_jobs=2)\n",
        "model_hog.fit(X_train_hog, y_train)"
      ],
      "execution_count": 64,
      "outputs": [
        {
          "output_type": "execute_result",
          "data": {
            "text/plain": [
              "LogisticRegression(C=1.0, class_weight=None, dual=False, fit_intercept=True,\n",
              "                   intercept_scaling=1, l1_ratio=None, max_iter=10000,\n",
              "                   multi_class='auto', n_jobs=2, penalty='l2', random_state=1,\n",
              "                   solver='lbfgs', tol=0.0001, verbose=0, warm_start=False)"
            ]
          },
          "metadata": {},
          "execution_count": 64
        }
      ]
    },
    {
      "cell_type": "code",
      "metadata": {
        "id": "v3EdCF3y82me"
      },
      "source": [
        "y_pred_hog = model_hog.predict(X_test_hog)"
      ],
      "execution_count": 65,
      "outputs": []
    },
    {
      "cell_type": "code",
      "metadata": {
        "colab": {
          "base_uri": "https://localhost:8080/"
        },
        "id": "a5c7Oj_L8-tr",
        "outputId": "c7007bca-530e-4467-ea94-3f04538045eb"
      },
      "source": [
        " from sklearn.metrics import accuracy_score, classification_report\n",
        " print('Accuracy:', accuracy_score(y_test, y_pred_hog))"
      ],
      "execution_count": 66,
      "outputs": [
        {
          "output_type": "stream",
          "name": "stdout",
          "text": [
            "Accuracy: 0.9333333333333333\n"
          ]
        }
      ]
    },
    {
      "cell_type": "code",
      "metadata": {
        "colab": {
          "base_uri": "https://localhost:8080/"
        },
        "id": "qFk5lRAl9Cb8",
        "outputId": "09055a8b-cd51-46ff-c96f-b36b5299e1b9"
      },
      "source": [
        " print(classification_report(y_test, y_pred_hog))"
      ],
      "execution_count": 67,
      "outputs": [
        {
          "output_type": "stream",
          "name": "stdout",
          "text": [
            "              precision    recall  f1-score   support\n",
            "\n",
            "           0       0.67      1.00      0.80         6\n",
            "           1       1.00      0.78      0.88         9\n",
            "           2       1.00      0.88      0.93         8\n",
            "           3       1.00      1.00      1.00         3\n",
            "           4       1.00      1.00      1.00         5\n",
            "           5       1.00      1.00      1.00         7\n",
            "           6       0.83      1.00      0.91         5\n",
            "           7       1.00      1.00      1.00         4\n",
            "           8       1.00      0.88      0.93         8\n",
            "           9       1.00      1.00      1.00         5\n",
            "\n",
            "    accuracy                           0.93        60\n",
            "   macro avg       0.95      0.95      0.95        60\n",
            "weighted avg       0.95      0.93      0.94        60\n",
            "\n"
          ]
        }
      ]
    },
    {
      "cell_type": "code",
      "metadata": {
        "id": "WAFciTCP9HjE"
      },
      "source": [
        ""
      ],
      "execution_count": null,
      "outputs": []
    }
  ]
}