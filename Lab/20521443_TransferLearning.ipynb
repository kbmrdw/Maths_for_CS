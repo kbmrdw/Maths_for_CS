{
  "nbformat": 4,
  "nbformat_minor": 0,
  "metadata": {
    "colab": {
      "name": "20521443_TransferLearning.ipynb",
      "provenance": [],
      "collapsed_sections": []
    },
    "kernelspec": {
      "name": "python3",
      "display_name": "Python 3"
    },
    "language_info": {
      "name": "python"
    },
    "accelerator": "GPU",
    "widgets": {
      "application/vnd.jupyter.widget-state+json": {
        "c0933470cd644837ae836dbc5123ff2c": {
          "model_module": "@jupyter-widgets/controls",
          "model_name": "HBoxModel",
          "model_module_version": "1.5.0",
          "state": {
            "_view_name": "HBoxView",
            "_dom_classes": [],
            "_model_name": "HBoxModel",
            "_view_module": "@jupyter-widgets/controls",
            "_model_module_version": "1.5.0",
            "_view_count": null,
            "_view_module_version": "1.5.0",
            "box_style": "",
            "layout": "IPY_MODEL_9e83460aceb64b6f93b7af82cad32f8d",
            "_model_module": "@jupyter-widgets/controls",
            "children": [
              "IPY_MODEL_583436f3dc51472ba4b1816412b107a9",
              "IPY_MODEL_f6c77402bfd04b42ab50939521e2f15b",
              "IPY_MODEL_c886622332ce44a799ad30fffb7c93d5"
            ]
          }
        },
        "9e83460aceb64b6f93b7af82cad32f8d": {
          "model_module": "@jupyter-widgets/base",
          "model_name": "LayoutModel",
          "model_module_version": "1.2.0",
          "state": {
            "_view_name": "LayoutView",
            "grid_template_rows": null,
            "right": null,
            "justify_content": null,
            "_view_module": "@jupyter-widgets/base",
            "overflow": null,
            "_model_module_version": "1.2.0",
            "_view_count": null,
            "flex_flow": null,
            "width": null,
            "min_width": null,
            "border": null,
            "align_items": null,
            "bottom": null,
            "_model_module": "@jupyter-widgets/base",
            "top": null,
            "grid_column": null,
            "overflow_y": null,
            "overflow_x": null,
            "grid_auto_flow": null,
            "grid_area": null,
            "grid_template_columns": null,
            "flex": null,
            "_model_name": "LayoutModel",
            "justify_items": null,
            "grid_row": null,
            "max_height": null,
            "align_content": null,
            "visibility": null,
            "align_self": null,
            "height": null,
            "min_height": null,
            "padding": null,
            "grid_auto_rows": null,
            "grid_gap": null,
            "max_width": null,
            "order": null,
            "_view_module_version": "1.2.0",
            "grid_template_areas": null,
            "object_position": null,
            "object_fit": null,
            "grid_auto_columns": null,
            "margin": null,
            "display": null,
            "left": null
          }
        },
        "583436f3dc51472ba4b1816412b107a9": {
          "model_module": "@jupyter-widgets/controls",
          "model_name": "HTMLModel",
          "model_module_version": "1.5.0",
          "state": {
            "_view_name": "HTMLView",
            "style": "IPY_MODEL_cba83f3f3ddc45249f879ee6821b2029",
            "_dom_classes": [],
            "description": "",
            "_model_name": "HTMLModel",
            "placeholder": "​",
            "_view_module": "@jupyter-widgets/controls",
            "_model_module_version": "1.5.0",
            "value": "100%",
            "_view_count": null,
            "_view_module_version": "1.5.0",
            "description_tooltip": null,
            "_model_module": "@jupyter-widgets/controls",
            "layout": "IPY_MODEL_73b72348677a46188efe60c0a8c49469"
          }
        },
        "f6c77402bfd04b42ab50939521e2f15b": {
          "model_module": "@jupyter-widgets/controls",
          "model_name": "FloatProgressModel",
          "model_module_version": "1.5.0",
          "state": {
            "_view_name": "ProgressView",
            "style": "IPY_MODEL_894b4d8c6a5149c2bbd8a5c63c5c5477",
            "_dom_classes": [],
            "description": "",
            "_model_name": "FloatProgressModel",
            "bar_style": "success",
            "max": 553433881,
            "_view_module": "@jupyter-widgets/controls",
            "_model_module_version": "1.5.0",
            "value": 553433881,
            "_view_count": null,
            "_view_module_version": "1.5.0",
            "orientation": "horizontal",
            "min": 0,
            "description_tooltip": null,
            "_model_module": "@jupyter-widgets/controls",
            "layout": "IPY_MODEL_0d598621c5c341aa8e1b5d010ea52496"
          }
        },
        "c886622332ce44a799ad30fffb7c93d5": {
          "model_module": "@jupyter-widgets/controls",
          "model_name": "HTMLModel",
          "model_module_version": "1.5.0",
          "state": {
            "_view_name": "HTMLView",
            "style": "IPY_MODEL_377687ab571f429b9620a4fb7c7ee3f1",
            "_dom_classes": [],
            "description": "",
            "_model_name": "HTMLModel",
            "placeholder": "​",
            "_view_module": "@jupyter-widgets/controls",
            "_model_module_version": "1.5.0",
            "value": " 528M/528M [00:43&lt;00:00, 16.9MB/s]",
            "_view_count": null,
            "_view_module_version": "1.5.0",
            "description_tooltip": null,
            "_model_module": "@jupyter-widgets/controls",
            "layout": "IPY_MODEL_62788a52ddc341ec8df52aff4a706061"
          }
        },
        "cba83f3f3ddc45249f879ee6821b2029": {
          "model_module": "@jupyter-widgets/controls",
          "model_name": "DescriptionStyleModel",
          "model_module_version": "1.5.0",
          "state": {
            "_view_name": "StyleView",
            "_model_name": "DescriptionStyleModel",
            "description_width": "",
            "_view_module": "@jupyter-widgets/base",
            "_model_module_version": "1.5.0",
            "_view_count": null,
            "_view_module_version": "1.2.0",
            "_model_module": "@jupyter-widgets/controls"
          }
        },
        "73b72348677a46188efe60c0a8c49469": {
          "model_module": "@jupyter-widgets/base",
          "model_name": "LayoutModel",
          "model_module_version": "1.2.0",
          "state": {
            "_view_name": "LayoutView",
            "grid_template_rows": null,
            "right": null,
            "justify_content": null,
            "_view_module": "@jupyter-widgets/base",
            "overflow": null,
            "_model_module_version": "1.2.0",
            "_view_count": null,
            "flex_flow": null,
            "width": null,
            "min_width": null,
            "border": null,
            "align_items": null,
            "bottom": null,
            "_model_module": "@jupyter-widgets/base",
            "top": null,
            "grid_column": null,
            "overflow_y": null,
            "overflow_x": null,
            "grid_auto_flow": null,
            "grid_area": null,
            "grid_template_columns": null,
            "flex": null,
            "_model_name": "LayoutModel",
            "justify_items": null,
            "grid_row": null,
            "max_height": null,
            "align_content": null,
            "visibility": null,
            "align_self": null,
            "height": null,
            "min_height": null,
            "padding": null,
            "grid_auto_rows": null,
            "grid_gap": null,
            "max_width": null,
            "order": null,
            "_view_module_version": "1.2.0",
            "grid_template_areas": null,
            "object_position": null,
            "object_fit": null,
            "grid_auto_columns": null,
            "margin": null,
            "display": null,
            "left": null
          }
        },
        "894b4d8c6a5149c2bbd8a5c63c5c5477": {
          "model_module": "@jupyter-widgets/controls",
          "model_name": "ProgressStyleModel",
          "model_module_version": "1.5.0",
          "state": {
            "_view_name": "StyleView",
            "_model_name": "ProgressStyleModel",
            "description_width": "",
            "_view_module": "@jupyter-widgets/base",
            "_model_module_version": "1.5.0",
            "_view_count": null,
            "_view_module_version": "1.2.0",
            "bar_color": null,
            "_model_module": "@jupyter-widgets/controls"
          }
        },
        "0d598621c5c341aa8e1b5d010ea52496": {
          "model_module": "@jupyter-widgets/base",
          "model_name": "LayoutModel",
          "model_module_version": "1.2.0",
          "state": {
            "_view_name": "LayoutView",
            "grid_template_rows": null,
            "right": null,
            "justify_content": null,
            "_view_module": "@jupyter-widgets/base",
            "overflow": null,
            "_model_module_version": "1.2.0",
            "_view_count": null,
            "flex_flow": null,
            "width": null,
            "min_width": null,
            "border": null,
            "align_items": null,
            "bottom": null,
            "_model_module": "@jupyter-widgets/base",
            "top": null,
            "grid_column": null,
            "overflow_y": null,
            "overflow_x": null,
            "grid_auto_flow": null,
            "grid_area": null,
            "grid_template_columns": null,
            "flex": null,
            "_model_name": "LayoutModel",
            "justify_items": null,
            "grid_row": null,
            "max_height": null,
            "align_content": null,
            "visibility": null,
            "align_self": null,
            "height": null,
            "min_height": null,
            "padding": null,
            "grid_auto_rows": null,
            "grid_gap": null,
            "max_width": null,
            "order": null,
            "_view_module_version": "1.2.0",
            "grid_template_areas": null,
            "object_position": null,
            "object_fit": null,
            "grid_auto_columns": null,
            "margin": null,
            "display": null,
            "left": null
          }
        },
        "377687ab571f429b9620a4fb7c7ee3f1": {
          "model_module": "@jupyter-widgets/controls",
          "model_name": "DescriptionStyleModel",
          "model_module_version": "1.5.0",
          "state": {
            "_view_name": "StyleView",
            "_model_name": "DescriptionStyleModel",
            "description_width": "",
            "_view_module": "@jupyter-widgets/base",
            "_model_module_version": "1.5.0",
            "_view_count": null,
            "_view_module_version": "1.2.0",
            "_model_module": "@jupyter-widgets/controls"
          }
        },
        "62788a52ddc341ec8df52aff4a706061": {
          "model_module": "@jupyter-widgets/base",
          "model_name": "LayoutModel",
          "model_module_version": "1.2.0",
          "state": {
            "_view_name": "LayoutView",
            "grid_template_rows": null,
            "right": null,
            "justify_content": null,
            "_view_module": "@jupyter-widgets/base",
            "overflow": null,
            "_model_module_version": "1.2.0",
            "_view_count": null,
            "flex_flow": null,
            "width": null,
            "min_width": null,
            "border": null,
            "align_items": null,
            "bottom": null,
            "_model_module": "@jupyter-widgets/base",
            "top": null,
            "grid_column": null,
            "overflow_y": null,
            "overflow_x": null,
            "grid_auto_flow": null,
            "grid_area": null,
            "grid_template_columns": null,
            "flex": null,
            "_model_name": "LayoutModel",
            "justify_items": null,
            "grid_row": null,
            "max_height": null,
            "align_content": null,
            "visibility": null,
            "align_self": null,
            "height": null,
            "min_height": null,
            "padding": null,
            "grid_auto_rows": null,
            "grid_gap": null,
            "max_width": null,
            "order": null,
            "_view_module_version": "1.2.0",
            "grid_template_areas": null,
            "object_position": null,
            "object_fit": null,
            "grid_auto_columns": null,
            "margin": null,
            "display": null,
            "left": null
          }
        }
      }
    }
  },
  "cells": [
    {
      "cell_type": "code",
      "execution_count": 1,
      "metadata": {
        "id": "zdx1AjU3OTux"
      },
      "outputs": [],
      "source": [
        "import numpy as np\n",
        "import random\n",
        "\n",
        "import torch\n",
        "from torch import nn\n",
        "from torch import optim\n",
        "from torchvision import datasets, transforms, models"
      ]
    },
    {
      "cell_type": "code",
      "source": [
        "random.seed(1)\n",
        "np.random.seed(1)\n",
        "torch.backends.cudnn.deterministic = True\n",
        "torch.backends.cudnn.benchmark = False"
      ],
      "metadata": {
        "id": "42DQbDr0yVNx"
      },
      "execution_count": 2,
      "outputs": []
    },
    {
      "cell_type": "code",
      "source": [
        "device = torch.device('cuda' if torch.cuda.is_available() else 'cpu')\n",
        "print(device)"
      ],
      "metadata": {
        "colab": {
          "base_uri": "https://localhost:8080/"
        },
        "id": "4y6K55ytymFj",
        "outputId": "7e8b92b6-7c48-4da7-e3b3-723cbab9d70c"
      },
      "execution_count": 4,
      "outputs": [
        {
          "output_type": "stream",
          "name": "stdout",
          "text": [
            "cuda\n"
          ]
        }
      ]
    },
    {
      "cell_type": "code",
      "source": [
        "data_dir = '/content/drive/MyDrive/Untitled folder/flower_data'\n",
        "train_dir = data_dir + '/train'\n",
        "valid_dir = data_dir + '/valid'\n",
        "test_dir = data_dir + '/test'"
      ],
      "metadata": {
        "id": "LxKg32iQ0UQ3"
      },
      "execution_count": 5,
      "outputs": []
    },
    {
      "cell_type": "markdown",
      "source": [
        "## 1st Approach - No Pretrained Model"
      ],
      "metadata": {
        "id": "WujsAKrRLob5"
      }
    },
    {
      "cell_type": "code",
      "source": [
        "from torchvision.transforms.transforms import CenterCrop\n",
        "trans = transforms.Compose([transforms.Resize(256),\n",
        "                            transforms.CenterCrop(256),\n",
        "                            transforms.ToTensor(),\n",
        "                            transforms.Normalize([0.485, 0.456, 0.406],\n",
        "                                                 [0.229, 0.224, 0.225])])\n",
        "training_set = datasets.ImageFolder(train_dir, transform = trans)\n",
        "validation_set = datasets.ImageFolder(valid_dir, transform = trans)\n",
        "testing_set = datasets.ImageFolder(test_dir, transform = trans)\n",
        "\n",
        "train_loader = torch.utils.data.DataLoader(training_set, batch_size = 64, shuffle = True)\n",
        "validate_loader = torch.utils.data.DataLoader(validation_set, batch_size = 32)\n",
        "test_loader = torch.utils.data.DataLoader(testing_set, batch_size = 32)"
      ],
      "metadata": {
        "id": "Xlk1ZXsn0-75"
      },
      "execution_count": 6,
      "outputs": []
    },
    {
      "cell_type": "code",
      "source": [
        "model = models.vgg16(pretrained = False)\n",
        "print(model)"
      ],
      "metadata": {
        "colab": {
          "base_uri": "https://localhost:8080/"
        },
        "id": "hGx3_qam3dI3",
        "outputId": "f951c91a-2a90-4963-ee10-dfa037999019"
      },
      "execution_count": 7,
      "outputs": [
        {
          "output_type": "stream",
          "name": "stdout",
          "text": [
            "VGG(\n",
            "  (features): Sequential(\n",
            "    (0): Conv2d(3, 64, kernel_size=(3, 3), stride=(1, 1), padding=(1, 1))\n",
            "    (1): ReLU(inplace=True)\n",
            "    (2): Conv2d(64, 64, kernel_size=(3, 3), stride=(1, 1), padding=(1, 1))\n",
            "    (3): ReLU(inplace=True)\n",
            "    (4): MaxPool2d(kernel_size=2, stride=2, padding=0, dilation=1, ceil_mode=False)\n",
            "    (5): Conv2d(64, 128, kernel_size=(3, 3), stride=(1, 1), padding=(1, 1))\n",
            "    (6): ReLU(inplace=True)\n",
            "    (7): Conv2d(128, 128, kernel_size=(3, 3), stride=(1, 1), padding=(1, 1))\n",
            "    (8): ReLU(inplace=True)\n",
            "    (9): MaxPool2d(kernel_size=2, stride=2, padding=0, dilation=1, ceil_mode=False)\n",
            "    (10): Conv2d(128, 256, kernel_size=(3, 3), stride=(1, 1), padding=(1, 1))\n",
            "    (11): ReLU(inplace=True)\n",
            "    (12): Conv2d(256, 256, kernel_size=(3, 3), stride=(1, 1), padding=(1, 1))\n",
            "    (13): ReLU(inplace=True)\n",
            "    (14): Conv2d(256, 256, kernel_size=(3, 3), stride=(1, 1), padding=(1, 1))\n",
            "    (15): ReLU(inplace=True)\n",
            "    (16): MaxPool2d(kernel_size=2, stride=2, padding=0, dilation=1, ceil_mode=False)\n",
            "    (17): Conv2d(256, 512, kernel_size=(3, 3), stride=(1, 1), padding=(1, 1))\n",
            "    (18): ReLU(inplace=True)\n",
            "    (19): Conv2d(512, 512, kernel_size=(3, 3), stride=(1, 1), padding=(1, 1))\n",
            "    (20): ReLU(inplace=True)\n",
            "    (21): Conv2d(512, 512, kernel_size=(3, 3), stride=(1, 1), padding=(1, 1))\n",
            "    (22): ReLU(inplace=True)\n",
            "    (23): MaxPool2d(kernel_size=2, stride=2, padding=0, dilation=1, ceil_mode=False)\n",
            "    (24): Conv2d(512, 512, kernel_size=(3, 3), stride=(1, 1), padding=(1, 1))\n",
            "    (25): ReLU(inplace=True)\n",
            "    (26): Conv2d(512, 512, kernel_size=(3, 3), stride=(1, 1), padding=(1, 1))\n",
            "    (27): ReLU(inplace=True)\n",
            "    (28): Conv2d(512, 512, kernel_size=(3, 3), stride=(1, 1), padding=(1, 1))\n",
            "    (29): ReLU(inplace=True)\n",
            "    (30): MaxPool2d(kernel_size=2, stride=2, padding=0, dilation=1, ceil_mode=False)\n",
            "  )\n",
            "  (avgpool): AdaptiveAvgPool2d(output_size=(7, 7))\n",
            "  (classifier): Sequential(\n",
            "    (0): Linear(in_features=25088, out_features=4096, bias=True)\n",
            "    (1): ReLU(inplace=True)\n",
            "    (2): Dropout(p=0.5, inplace=False)\n",
            "    (3): Linear(in_features=4096, out_features=4096, bias=True)\n",
            "    (4): ReLU(inplace=True)\n",
            "    (5): Dropout(p=0.5, inplace=False)\n",
            "    (6): Linear(in_features=4096, out_features=1000, bias=True)\n",
            "  )\n",
            ")\n"
          ]
        }
      ]
    },
    {
      "cell_type": "code",
      "source": [
        "classifier = nn.Sequential(nn.Linear(25088, 4096),\n",
        "                           nn.ReLU(inplace=True),\n",
        "                           nn.Dropout(p=0.5, inplace=False),\n",
        "                           nn.Linear(4096, 4096),\n",
        "                           nn.ReLU(inplace=True),\n",
        "                           nn.Dropout(p=0.5, inplace=False),\n",
        "                           nn.Linear(4096, 102),\n",
        "                           nn.LogSoftmax(dim=1))\n",
        "model.classifier = classifier\n",
        "print(model)"
      ],
      "metadata": {
        "colab": {
          "base_uri": "https://localhost:8080/"
        },
        "id": "B3cjSERe4Ed-",
        "outputId": "74674a6c-8532-4336-8398-0baee0397a7c"
      },
      "execution_count": 9,
      "outputs": [
        {
          "output_type": "stream",
          "name": "stdout",
          "text": [
            "VGG(\n",
            "  (features): Sequential(\n",
            "    (0): Conv2d(3, 64, kernel_size=(3, 3), stride=(1, 1), padding=(1, 1))\n",
            "    (1): ReLU(inplace=True)\n",
            "    (2): Conv2d(64, 64, kernel_size=(3, 3), stride=(1, 1), padding=(1, 1))\n",
            "    (3): ReLU(inplace=True)\n",
            "    (4): MaxPool2d(kernel_size=2, stride=2, padding=0, dilation=1, ceil_mode=False)\n",
            "    (5): Conv2d(64, 128, kernel_size=(3, 3), stride=(1, 1), padding=(1, 1))\n",
            "    (6): ReLU(inplace=True)\n",
            "    (7): Conv2d(128, 128, kernel_size=(3, 3), stride=(1, 1), padding=(1, 1))\n",
            "    (8): ReLU(inplace=True)\n",
            "    (9): MaxPool2d(kernel_size=2, stride=2, padding=0, dilation=1, ceil_mode=False)\n",
            "    (10): Conv2d(128, 256, kernel_size=(3, 3), stride=(1, 1), padding=(1, 1))\n",
            "    (11): ReLU(inplace=True)\n",
            "    (12): Conv2d(256, 256, kernel_size=(3, 3), stride=(1, 1), padding=(1, 1))\n",
            "    (13): ReLU(inplace=True)\n",
            "    (14): Conv2d(256, 256, kernel_size=(3, 3), stride=(1, 1), padding=(1, 1))\n",
            "    (15): ReLU(inplace=True)\n",
            "    (16): MaxPool2d(kernel_size=2, stride=2, padding=0, dilation=1, ceil_mode=False)\n",
            "    (17): Conv2d(256, 512, kernel_size=(3, 3), stride=(1, 1), padding=(1, 1))\n",
            "    (18): ReLU(inplace=True)\n",
            "    (19): Conv2d(512, 512, kernel_size=(3, 3), stride=(1, 1), padding=(1, 1))\n",
            "    (20): ReLU(inplace=True)\n",
            "    (21): Conv2d(512, 512, kernel_size=(3, 3), stride=(1, 1), padding=(1, 1))\n",
            "    (22): ReLU(inplace=True)\n",
            "    (23): MaxPool2d(kernel_size=2, stride=2, padding=0, dilation=1, ceil_mode=False)\n",
            "    (24): Conv2d(512, 512, kernel_size=(3, 3), stride=(1, 1), padding=(1, 1))\n",
            "    (25): ReLU(inplace=True)\n",
            "    (26): Conv2d(512, 512, kernel_size=(3, 3), stride=(1, 1), padding=(1, 1))\n",
            "    (27): ReLU(inplace=True)\n",
            "    (28): Conv2d(512, 512, kernel_size=(3, 3), stride=(1, 1), padding=(1, 1))\n",
            "    (29): ReLU(inplace=True)\n",
            "    (30): MaxPool2d(kernel_size=2, stride=2, padding=0, dilation=1, ceil_mode=False)\n",
            "  )\n",
            "  (avgpool): AdaptiveAvgPool2d(output_size=(7, 7))\n",
            "  (classifier): Sequential(\n",
            "    (0): Linear(in_features=25088, out_features=4096, bias=True)\n",
            "    (1): ReLU(inplace=True)\n",
            "    (2): Dropout(p=0.5, inplace=False)\n",
            "    (3): Linear(in_features=4096, out_features=4096, bias=True)\n",
            "    (4): ReLU(inplace=True)\n",
            "    (5): Dropout(p=0.5, inplace=False)\n",
            "    (6): Linear(in_features=4096, out_features=102, bias=True)\n",
            "    (7): LogSoftmax(dim=1)\n",
            "  )\n",
            ")\n"
          ]
        }
      ]
    },
    {
      "cell_type": "code",
      "source": [
        "criterion = nn.NLLLoss()\n",
        "optimizer = optim.Adam(model.parameters(), lr=0.001)"
      ],
      "metadata": {
        "id": "Iv1PynCe46u4"
      },
      "execution_count": 10,
      "outputs": []
    },
    {
      "cell_type": "code",
      "source": [
        "def validation(model, validate_loader, criterion):\n",
        "  val_loss = 0\n",
        "  accuracy = 0\n",
        "  for images, labels in iter(validate_loader):\n",
        "    images, labels = images.to('cuda'), labels.to('cuda')\n",
        "    output = model.forward(images)\n",
        "    val_loss += criterion(output, labels).item()\n",
        "    probabilities = torch.exp(output)\n",
        "    equality = (labels.data == probabilities.max(dim=1)[1])\n",
        "    accuracy += equality.type(torch.FloatTensor).mean()\n",
        "  return val_loss, accuracy"
      ],
      "metadata": {
        "id": "u3D9GIKm5Vyr"
      },
      "execution_count": 12,
      "outputs": []
    },
    {
      "cell_type": "code",
      "source": [
        "import time"
      ],
      "metadata": {
        "id": "X4yskd9rA_4T"
      },
      "execution_count": 15,
      "outputs": []
    },
    {
      "cell_type": "code",
      "source": [
        "def train_model():\n",
        "  max_epoch = 10\n",
        "  print_every = 20\n",
        "  n_steps = 0\n",
        "  model.to('cuda')\n",
        "\n",
        "  start_train = time.time()\n",
        "  for n_epochs in range(max_epoch):\n",
        "    print(f'- Epoch {n_epochs + 1}')\n",
        "    start_epoch = time.time()\n",
        "    model.train()\n",
        "\n",
        "    epoch_loss = 0\n",
        "\n",
        "    for batch_idx, (images, labels) in enumerate(train_loader):\n",
        "      images, labels = images.to('cuda'), labels.to('cuda')\n",
        "\n",
        "      optimizer.zero_grad()\n",
        "\n",
        "      output = model.forward(images)\n",
        "      loss = criterion(output, labels)\n",
        "      loss.backward()\n",
        "      optimizer.step()\n",
        "\n",
        "      epoch_loss += loss.item()\n",
        "      if n_steps % print_every == 0:\n",
        "        model.eval()\n",
        "        with torch.no_grad():\n",
        "          validation_loss, accuracy = validation(model, validate_loader, criterion)\n",
        "\n",
        "        print(f\"Batch: {batch_idx}/{len(train_loader)}..\",\n",
        "              f\"Training Loss: {epoch_loss/print_every:.3f}..\",\n",
        "              f\"Validation Loss: {validation_loss/len(validate_loader):.3f}..\",\n",
        "              f\"Validation Accuracy: {accuracy/len(validate_loader):.3f}\")\n",
        "         \n",
        "        epoch_loss = 0\n",
        "        model.train()\n",
        "      n_steps += 1\n",
        "    end_epoch = time.time()\n",
        "    print(f'--> Epoch {n_epochs + 1} costs {end_epoch - start_epoch} seconds')\n",
        "  end_train = time.time()\n",
        "  print(f'Training time: {end_train - start_train}')   "
      ],
      "metadata": {
        "id": "v9oEAHCc6MWf"
      },
      "execution_count": 24,
      "outputs": []
    },
    {
      "cell_type": "code",
      "source": [
        "train_model()"
      ],
      "metadata": {
        "colab": {
          "base_uri": "https://localhost:8080/"
        },
        "id": "bYbyF_Hn_QVD",
        "outputId": "8fc7ab2a-95ee-4af3-f163-be0a31e78de3"
      },
      "execution_count": 25,
      "outputs": [
        {
          "output_type": "stream",
          "name": "stdout",
          "text": [
            "- Epoch 1\n",
            "Batch: 0/103.. Training Loss: 25.030.. Validation Loss: 4.614.. Validation Accuracy: 0.034\n",
            "Batch: 20/103.. Training Loss: 4.736.. Validation Loss: 4.555.. Validation Accuracy: 0.025\n",
            "Batch: 40/103.. Training Loss: 4.562.. Validation Loss: 4.558.. Validation Accuracy: 0.034\n",
            "Batch: 60/103.. Training Loss: 4.535.. Validation Loss: 4.518.. Validation Accuracy: 0.025\n",
            "Batch: 80/103.. Training Loss: 4.530.. Validation Loss: 4.512.. Validation Accuracy: 0.025\n",
            "Batch: 100/103.. Training Loss: 4.543.. Validation Loss: 4.508.. Validation Accuracy: 0.025\n",
            "--> Epoch 1 costs 1916.2193830013275 seconds\n",
            "- Epoch 2\n",
            "Batch: 17/103.. Training Loss: 4.050.. Validation Loss: 4.514.. Validation Accuracy: 0.025\n",
            "Batch: 37/103.. Training Loss: 4.532.. Validation Loss: 4.511.. Validation Accuracy: 0.025\n",
            "Batch: 57/103.. Training Loss: 4.523.. Validation Loss: 4.505.. Validation Accuracy: 0.034\n",
            "Batch: 77/103.. Training Loss: 4.525.. Validation Loss: 4.505.. Validation Accuracy: 0.034\n",
            "Batch: 97/103.. Training Loss: 4.509.. Validation Loss: 4.504.. Validation Accuracy: 0.025\n",
            "--> Epoch 2 costs 867.9756278991699 seconds\n",
            "- Epoch 3\n",
            "Batch: 14/103.. Training Loss: 3.369.. Validation Loss: 4.505.. Validation Accuracy: 0.025\n",
            "Batch: 34/103.. Training Loss: 4.518.. Validation Loss: 4.508.. Validation Accuracy: 0.025\n",
            "Batch: 54/103.. Training Loss: 4.539.. Validation Loss: 4.512.. Validation Accuracy: 0.025\n",
            "Batch: 74/103.. Training Loss: 4.508.. Validation Loss: 4.507.. Validation Accuracy: 0.034\n",
            "Batch: 94/103.. Training Loss: 4.515.. Validation Loss: 4.503.. Validation Accuracy: 0.025\n",
            "--> Epoch 3 costs 863.6558287143707 seconds\n",
            "- Epoch 4\n",
            "Batch: 11/103.. Training Loss: 2.704.. Validation Loss: 4.502.. Validation Accuracy: 0.025\n",
            "Batch: 31/103.. Training Loss: 4.506.. Validation Loss: 4.500.. Validation Accuracy: 0.034\n",
            "Batch: 51/103.. Training Loss: 4.507.. Validation Loss: 4.504.. Validation Accuracy: 0.025\n",
            "Batch: 71/103.. Training Loss: 4.517.. Validation Loss: 4.503.. Validation Accuracy: 0.025\n",
            "Batch: 91/103.. Training Loss: 4.531.. Validation Loss: 4.505.. Validation Accuracy: 0.025\n",
            "--> Epoch 4 costs 853.1743330955505 seconds\n",
            "- Epoch 5\n",
            "Batch: 8/103.. Training Loss: 2.037.. Validation Loss: 4.510.. Validation Accuracy: 0.034\n",
            "Batch: 28/103.. Training Loss: 4.512.. Validation Loss: 4.513.. Validation Accuracy: 0.025\n",
            "Batch: 48/103.. Training Loss: 4.527.. Validation Loss: 4.508.. Validation Accuracy: 0.025\n",
            "Batch: 68/103.. Training Loss: 4.496.. Validation Loss: 4.506.. Validation Accuracy: 0.034\n",
            "Batch: 88/103.. Training Loss: 4.519.. Validation Loss: 4.502.. Validation Accuracy: 0.034\n",
            "--> Epoch 5 costs 848.3179624080658 seconds\n",
            "- Epoch 6\n",
            "Batch: 5/103.. Training Loss: 1.354.. Validation Loss: 4.500.. Validation Accuracy: 0.025\n",
            "Batch: 25/103.. Training Loss: 4.502.. Validation Loss: 4.505.. Validation Accuracy: 0.025\n",
            "Batch: 45/103.. Training Loss: 4.505.. Validation Loss: 4.503.. Validation Accuracy: 0.025\n",
            "Batch: 65/103.. Training Loss: 4.513.. Validation Loss: 4.504.. Validation Accuracy: 0.025\n",
            "Batch: 85/103.. Training Loss: 4.519.. Validation Loss: 4.504.. Validation Accuracy: 0.025\n",
            "--> Epoch 6 costs 849.4545776844025 seconds\n",
            "- Epoch 7\n",
            "Batch: 2/103.. Training Loss: 0.673.. Validation Loss: 4.504.. Validation Accuracy: 0.034\n",
            "Batch: 22/103.. Training Loss: 4.527.. Validation Loss: 4.505.. Validation Accuracy: 0.034\n",
            "Batch: 42/103.. Training Loss: 4.498.. Validation Loss: 4.504.. Validation Accuracy: 0.034\n",
            "Batch: 62/103.. Training Loss: 4.511.. Validation Loss: 4.503.. Validation Accuracy: 0.034\n",
            "Batch: 82/103.. Training Loss: 4.523.. Validation Loss: 4.504.. Validation Accuracy: 0.034\n",
            "Batch: 102/103.. Training Loss: 4.499.. Validation Loss: 4.505.. Validation Accuracy: 0.025\n",
            "--> Epoch 7 costs 874.0411577224731 seconds\n",
            "- Epoch 8\n",
            "Batch: 19/103.. Training Loss: 4.499.. Validation Loss: 4.503.. Validation Accuracy: 0.025\n",
            "Batch: 39/103.. Training Loss: 4.508.. Validation Loss: 4.505.. Validation Accuracy: 0.025\n",
            "Batch: 59/103.. Training Loss: 4.519.. Validation Loss: 4.508.. Validation Accuracy: 0.025\n",
            "Batch: 79/103.. Training Loss: 4.530.. Validation Loss: 4.509.. Validation Accuracy: 0.025\n",
            "Batch: 99/103.. Training Loss: 4.499.. Validation Loss: 4.503.. Validation Accuracy: 0.025\n",
            "--> Epoch 8 costs 833.1656875610352 seconds\n",
            "- Epoch 9\n",
            "Batch: 16/103.. Training Loss: 3.823.. Validation Loss: 4.502.. Validation Accuracy: 0.034\n",
            "Batch: 36/103.. Training Loss: 4.509.. Validation Loss: 4.504.. Validation Accuracy: 0.034\n",
            "Batch: 56/103.. Training Loss: 4.468.. Validation Loss: 4.511.. Validation Accuracy: 0.034\n",
            "Batch: 76/103.. Training Loss: 4.526.. Validation Loss: 4.506.. Validation Accuracy: 0.034\n",
            "Batch: 96/103.. Training Loss: 4.536.. Validation Loss: 4.505.. Validation Accuracy: 0.025\n",
            "--> Epoch 9 costs 835.215891122818 seconds\n",
            "- Epoch 10\n",
            "Batch: 13/103.. Training Loss: 3.174.. Validation Loss: 4.505.. Validation Accuracy: 0.025\n",
            "Batch: 33/103.. Training Loss: 4.501.. Validation Loss: 4.501.. Validation Accuracy: 0.034\n",
            "Batch: 53/103.. Training Loss: 4.523.. Validation Loss: 4.501.. Validation Accuracy: 0.034\n",
            "Batch: 73/103.. Training Loss: 4.501.. Validation Loss: 4.499.. Validation Accuracy: 0.034\n",
            "Batch: 93/103.. Training Loss: 4.495.. Validation Loss: 4.502.. Validation Accuracy: 0.034\n",
            "--> Epoch 10 costs 841.9267959594727 seconds\n",
            "Training time: 9583.153289079666\n"
          ]
        }
      ]
    },
    {
      "cell_type": "code",
      "source": [
        "def save_checkpoint(model):\n",
        "  model.class_to_idx = training_set.class_to_idx\n",
        "  checkpoint = {'arch': \"vgg16\",\n",
        "                'class_to_idx': model.class_to_idx,\n",
        "                'model_state_dict': model.state_dict()}\n",
        "  torch.save(checkpoint, '/content/drive/MyDrive/Untitled folder/PyTorch/checkpoint.pth')\n"
      ],
      "metadata": {
        "id": "pAP_KozqBpCv"
      },
      "execution_count": 28,
      "outputs": []
    },
    {
      "cell_type": "code",
      "source": [
        "save_checkpoint(model)"
      ],
      "metadata": {
        "id": "f7mDX6S0pjEq"
      },
      "execution_count": 29,
      "outputs": []
    },
    {
      "cell_type": "code",
      "source": [
        "def test_model(model, test_loader):\n",
        "  model.eval()\n",
        "  model.to('cuda')\n",
        "  with torch.no_grad():\n",
        "    accuracy = 0\n",
        "    for images, labels in iter(test_loader):\n",
        "      images, labels = images.to('cuda'), labels.to('cuda')\n",
        "      output = model.forward(images)\n",
        "      probabilities = torch.exp(output)\n",
        "      equality = (labels.data == probabilities.max(dim=1)[1])\n",
        "      accuracy += equality.type(torch.FloatTensor).mean()\n",
        "    print(\"Test Accuracy: {}\".format(accuracy/len(test_loader)))"
      ],
      "metadata": {
        "id": "5vt2OOJcplEx"
      },
      "execution_count": 30,
      "outputs": []
    },
    {
      "cell_type": "code",
      "source": [
        "test_model(model, test_loader)"
      ],
      "metadata": {
        "colab": {
          "base_uri": "https://localhost:8080/"
        },
        "id": "xuVWyHF1q5hc",
        "outputId": "857c50b5-445a-4faf-f2de-644abb78407e"
      },
      "execution_count": 31,
      "outputs": [
        {
          "output_type": "stream",
          "name": "stdout",
          "text": [
            "Test Accuracy: 0.030048076063394547\n"
          ]
        }
      ]
    },
    {
      "cell_type": "markdown",
      "source": [
        "## 2nd Approach - Pretrained Model"
      ],
      "metadata": {
        "id": "H0ZtQvBtsfpj"
      }
    },
    {
      "cell_type": "code",
      "source": [
        "model = models.vgg16(pretrained=True)\n",
        "print(model)"
      ],
      "metadata": {
        "colab": {
          "base_uri": "https://localhost:8080/",
          "height": 847,
          "referenced_widgets": [
            "c0933470cd644837ae836dbc5123ff2c",
            "9e83460aceb64b6f93b7af82cad32f8d",
            "583436f3dc51472ba4b1816412b107a9",
            "f6c77402bfd04b42ab50939521e2f15b",
            "c886622332ce44a799ad30fffb7c93d5",
            "cba83f3f3ddc45249f879ee6821b2029",
            "73b72348677a46188efe60c0a8c49469",
            "894b4d8c6a5149c2bbd8a5c63c5c5477",
            "0d598621c5c341aa8e1b5d010ea52496",
            "377687ab571f429b9620a4fb7c7ee3f1",
            "62788a52ddc341ec8df52aff4a706061"
          ]
        },
        "id": "CWS--QnBryFV",
        "outputId": "fc05cb21-c1a8-4e90-c417-a844cb5773f5"
      },
      "execution_count": 34,
      "outputs": [
        {
          "output_type": "stream",
          "name": "stderr",
          "text": [
            "Downloading: \"https://download.pytorch.org/models/vgg16-397923af.pth\" to /root/.cache/torch/hub/checkpoints/vgg16-397923af.pth\n"
          ]
        },
        {
          "output_type": "display_data",
          "data": {
            "application/vnd.jupyter.widget-view+json": {
              "model_id": "c0933470cd644837ae836dbc5123ff2c",
              "version_minor": 0,
              "version_major": 2
            },
            "text/plain": [
              "  0%|          | 0.00/528M [00:00<?, ?B/s]"
            ]
          },
          "metadata": {}
        },
        {
          "output_type": "stream",
          "name": "stdout",
          "text": [
            "VGG(\n",
            "  (features): Sequential(\n",
            "    (0): Conv2d(3, 64, kernel_size=(3, 3), stride=(1, 1), padding=(1, 1))\n",
            "    (1): ReLU(inplace=True)\n",
            "    (2): Conv2d(64, 64, kernel_size=(3, 3), stride=(1, 1), padding=(1, 1))\n",
            "    (3): ReLU(inplace=True)\n",
            "    (4): MaxPool2d(kernel_size=2, stride=2, padding=0, dilation=1, ceil_mode=False)\n",
            "    (5): Conv2d(64, 128, kernel_size=(3, 3), stride=(1, 1), padding=(1, 1))\n",
            "    (6): ReLU(inplace=True)\n",
            "    (7): Conv2d(128, 128, kernel_size=(3, 3), stride=(1, 1), padding=(1, 1))\n",
            "    (8): ReLU(inplace=True)\n",
            "    (9): MaxPool2d(kernel_size=2, stride=2, padding=0, dilation=1, ceil_mode=False)\n",
            "    (10): Conv2d(128, 256, kernel_size=(3, 3), stride=(1, 1), padding=(1, 1))\n",
            "    (11): ReLU(inplace=True)\n",
            "    (12): Conv2d(256, 256, kernel_size=(3, 3), stride=(1, 1), padding=(1, 1))\n",
            "    (13): ReLU(inplace=True)\n",
            "    (14): Conv2d(256, 256, kernel_size=(3, 3), stride=(1, 1), padding=(1, 1))\n",
            "    (15): ReLU(inplace=True)\n",
            "    (16): MaxPool2d(kernel_size=2, stride=2, padding=0, dilation=1, ceil_mode=False)\n",
            "    (17): Conv2d(256, 512, kernel_size=(3, 3), stride=(1, 1), padding=(1, 1))\n",
            "    (18): ReLU(inplace=True)\n",
            "    (19): Conv2d(512, 512, kernel_size=(3, 3), stride=(1, 1), padding=(1, 1))\n",
            "    (20): ReLU(inplace=True)\n",
            "    (21): Conv2d(512, 512, kernel_size=(3, 3), stride=(1, 1), padding=(1, 1))\n",
            "    (22): ReLU(inplace=True)\n",
            "    (23): MaxPool2d(kernel_size=2, stride=2, padding=0, dilation=1, ceil_mode=False)\n",
            "    (24): Conv2d(512, 512, kernel_size=(3, 3), stride=(1, 1), padding=(1, 1))\n",
            "    (25): ReLU(inplace=True)\n",
            "    (26): Conv2d(512, 512, kernel_size=(3, 3), stride=(1, 1), padding=(1, 1))\n",
            "    (27): ReLU(inplace=True)\n",
            "    (28): Conv2d(512, 512, kernel_size=(3, 3), stride=(1, 1), padding=(1, 1))\n",
            "    (29): ReLU(inplace=True)\n",
            "    (30): MaxPool2d(kernel_size=2, stride=2, padding=0, dilation=1, ceil_mode=False)\n",
            "  )\n",
            "  (avgpool): AdaptiveAvgPool2d(output_size=(7, 7))\n",
            "  (classifier): Sequential(\n",
            "    (0): Linear(in_features=25088, out_features=4096, bias=True)\n",
            "    (1): ReLU(inplace=True)\n",
            "    (2): Dropout(p=0.5, inplace=False)\n",
            "    (3): Linear(in_features=4096, out_features=4096, bias=True)\n",
            "    (4): ReLU(inplace=True)\n",
            "    (5): Dropout(p=0.5, inplace=False)\n",
            "    (6): Linear(in_features=4096, out_features=1000, bias=True)\n",
            "  )\n",
            ")\n"
          ]
        }
      ]
    },
    {
      "cell_type": "code",
      "source": [
        "for parameter in model.parameters():\n",
        "  parameter.requires_grad = False\n",
        "\n",
        "classifier = nn.Sequential(nn.Linear(25088,4096),\n",
        "                           nn.ReLU(inplace=True),\n",
        "                           nn.Dropout(p=0.5, inplace=False),\n",
        "                           nn.Linear(4096,4096),\n",
        "                           nn.ReLU(inplace=True),\n",
        "                           nn.Dropout(p=0.5, inplace=False),\n",
        "                           nn.Linear(4096,102),\n",
        "                           nn.LogSoftmax(dim=1)\n",
        "                           )\n",
        "model.classifier = classifier\n",
        "print(model)"
      ],
      "metadata": {
        "colab": {
          "base_uri": "https://localhost:8080/"
        },
        "id": "A3TTTi1YsmTq",
        "outputId": "262d9c05-a435-497b-ae7a-7549c5a38627"
      },
      "execution_count": 35,
      "outputs": [
        {
          "output_type": "stream",
          "name": "stdout",
          "text": [
            "VGG(\n",
            "  (features): Sequential(\n",
            "    (0): Conv2d(3, 64, kernel_size=(3, 3), stride=(1, 1), padding=(1, 1))\n",
            "    (1): ReLU(inplace=True)\n",
            "    (2): Conv2d(64, 64, kernel_size=(3, 3), stride=(1, 1), padding=(1, 1))\n",
            "    (3): ReLU(inplace=True)\n",
            "    (4): MaxPool2d(kernel_size=2, stride=2, padding=0, dilation=1, ceil_mode=False)\n",
            "    (5): Conv2d(64, 128, kernel_size=(3, 3), stride=(1, 1), padding=(1, 1))\n",
            "    (6): ReLU(inplace=True)\n",
            "    (7): Conv2d(128, 128, kernel_size=(3, 3), stride=(1, 1), padding=(1, 1))\n",
            "    (8): ReLU(inplace=True)\n",
            "    (9): MaxPool2d(kernel_size=2, stride=2, padding=0, dilation=1, ceil_mode=False)\n",
            "    (10): Conv2d(128, 256, kernel_size=(3, 3), stride=(1, 1), padding=(1, 1))\n",
            "    (11): ReLU(inplace=True)\n",
            "    (12): Conv2d(256, 256, kernel_size=(3, 3), stride=(1, 1), padding=(1, 1))\n",
            "    (13): ReLU(inplace=True)\n",
            "    (14): Conv2d(256, 256, kernel_size=(3, 3), stride=(1, 1), padding=(1, 1))\n",
            "    (15): ReLU(inplace=True)\n",
            "    (16): MaxPool2d(kernel_size=2, stride=2, padding=0, dilation=1, ceil_mode=False)\n",
            "    (17): Conv2d(256, 512, kernel_size=(3, 3), stride=(1, 1), padding=(1, 1))\n",
            "    (18): ReLU(inplace=True)\n",
            "    (19): Conv2d(512, 512, kernel_size=(3, 3), stride=(1, 1), padding=(1, 1))\n",
            "    (20): ReLU(inplace=True)\n",
            "    (21): Conv2d(512, 512, kernel_size=(3, 3), stride=(1, 1), padding=(1, 1))\n",
            "    (22): ReLU(inplace=True)\n",
            "    (23): MaxPool2d(kernel_size=2, stride=2, padding=0, dilation=1, ceil_mode=False)\n",
            "    (24): Conv2d(512, 512, kernel_size=(3, 3), stride=(1, 1), padding=(1, 1))\n",
            "    (25): ReLU(inplace=True)\n",
            "    (26): Conv2d(512, 512, kernel_size=(3, 3), stride=(1, 1), padding=(1, 1))\n",
            "    (27): ReLU(inplace=True)\n",
            "    (28): Conv2d(512, 512, kernel_size=(3, 3), stride=(1, 1), padding=(1, 1))\n",
            "    (29): ReLU(inplace=True)\n",
            "    (30): MaxPool2d(kernel_size=2, stride=2, padding=0, dilation=1, ceil_mode=False)\n",
            "  )\n",
            "  (avgpool): AdaptiveAvgPool2d(output_size=(7, 7))\n",
            "  (classifier): Sequential(\n",
            "    (0): Linear(in_features=25088, out_features=4096, bias=True)\n",
            "    (1): ReLU(inplace=True)\n",
            "    (2): Dropout(p=0.5, inplace=False)\n",
            "    (3): Linear(in_features=4096, out_features=4096, bias=True)\n",
            "    (4): ReLU(inplace=True)\n",
            "    (5): Dropout(p=0.5, inplace=False)\n",
            "    (6): Linear(in_features=4096, out_features=102, bias=True)\n",
            "    (7): LogSoftmax(dim=1)\n",
            "  )\n",
            ")\n"
          ]
        }
      ]
    },
    {
      "cell_type": "code",
      "source": [
        "criterion = nn.NLLLoss()\n",
        "optimizer = optim.Adam(model.classifier.parameters(), lr=0.001)"
      ],
      "metadata": {
        "id": "i55YOOZ6tH05"
      },
      "execution_count": 36,
      "outputs": []
    },
    {
      "cell_type": "code",
      "source": [
        "def validation(model, validateloader, criterion):\n",
        "  val_loss = 0\n",
        "  accuracy = 0\n",
        "  for images, labels in iter(validateloader):\n",
        "    images, labels = images.to('cuda'), labels.to('cuda')\n",
        "    output = model.forward(images)\n",
        "    val_loss += criterion(output, labels).item()\n",
        "    probabilities = torch.exp(output)\n",
        "    equality = (labels.data == probabilities.max(dim=1)[1])\n",
        "    accuracy += equality.type(torch.FloatTensor).mean()\n",
        "  return val_loss, accuracy"
      ],
      "metadata": {
        "id": "p8tGgCQEtKlt"
      },
      "execution_count": 37,
      "outputs": []
    },
    {
      "cell_type": "code",
      "source": [
        "import time\n",
        "def train_model():\n",
        "  max_epoch = 10\n",
        "  print_every = 20\n",
        "  n_steps = 0\n",
        "  model.to('cuda')\n",
        "\n",
        "  start_train = time.time()\n",
        "  for n_epochs in range(max_epoch):\n",
        "    print(f'- Epoch {n_epochs + 1}')\n",
        "    start_epoch = time.time()\n",
        "    model.train()\n",
        "\n",
        "    epoch_loss = 0\n",
        "\n",
        "    for batch_idx, (images, labels) in enumerate(train_loader):\n",
        "      images, labels = images.to('cuda'), labels.to('cuda')\n",
        "      optimizer.zero_grad()\n",
        "\n",
        "      output = model.forward(images)\n",
        "      loss = criterion(output, labels)\n",
        "      loss.backward()\n",
        "      optimizer.step()\n",
        "      \n",
        "      epoch_loss += loss.item()\n",
        "      if n_steps % print_every == 0:\n",
        "        model.eval()\n",
        "        #Turn off gradients for validation, saves memory and computations\n",
        "        with torch.no_grad():\n",
        "          validation_loss, accuracy = validation(model, validate_loader, criterion)\n",
        "\n",
        "        print(f\"Batch: {batch_idx}/{len(train_loader)}.. \",\n",
        "              f\"Training Loss: {epoch_loss/print_every:.3f}.. \",\n",
        "              f\"Validation Loss: {validation_loss/len(validate_loader):.3f}.. \",\n",
        "              f\"Validation Accuracy: {accuracy/len(validate_loader):.3f}\")\n",
        "        \n",
        "        epoch_loss = 0\n",
        "        model.train()\n",
        "      n_steps += 1\n",
        "    end_epoch = time.time()\n",
        "    print(f'--> Epoch {n_epochs + 1} costs {end_epoch - start_epoch} seconds')\n",
        "  end_train = time.time()\n",
        "  print(f\"Training time: {end_train - start_train}\")"
      ],
      "metadata": {
        "id": "oC2_7Z02tMh3"
      },
      "execution_count": 38,
      "outputs": []
    },
    {
      "cell_type": "code",
      "source": [
        "train_model()"
      ],
      "metadata": {
        "colab": {
          "base_uri": "https://localhost:8080/"
        },
        "id": "XiMGXdPItPcw",
        "outputId": "5cb804ac-0115-4e0d-8ae2-9e898c0c0a03"
      },
      "execution_count": 39,
      "outputs": [
        {
          "output_type": "stream",
          "name": "stdout",
          "text": [
            "- Epoch 1\n",
            "Batch: 0/103..  Training Loss: 0.233..  Validation Loss: 9.538..  Validation Accuracy: 0.025\n",
            "Batch: 20/103..  Training Loss: 5.368..  Validation Loss: 3.426..  Validation Accuracy: 0.282\n",
            "Batch: 40/103..  Training Loss: 2.996..  Validation Loss: 2.016..  Validation Accuracy: 0.533\n",
            "Batch: 60/103..  Training Loss: 2.174..  Validation Loss: 1.413..  Validation Accuracy: 0.635\n",
            "Batch: 80/103..  Training Loss: 1.853..  Validation Loss: 1.271..  Validation Accuracy: 0.669\n",
            "Batch: 100/103..  Training Loss: 1.708..  Validation Loss: 0.979..  Validation Accuracy: 0.768\n",
            "--> Epoch 1 costs 520.4334514141083 seconds\n",
            "- Epoch 2\n",
            "Batch: 17/103..  Training Loss: 1.197..  Validation Loss: 0.882..  Validation Accuracy: 0.770\n",
            "Batch: 37/103..  Training Loss: 1.335..  Validation Loss: 0.894..  Validation Accuracy: 0.761\n",
            "Batch: 57/103..  Training Loss: 1.230..  Validation Loss: 0.805..  Validation Accuracy: 0.791\n",
            "Batch: 77/103..  Training Loss: 1.235..  Validation Loss: 0.714..  Validation Accuracy: 0.806\n",
            "Batch: 97/103..  Training Loss: 1.250..  Validation Loss: 0.810..  Validation Accuracy: 0.796\n",
            "--> Epoch 2 costs 482.3544988632202 seconds\n",
            "- Epoch 3\n",
            "Batch: 14/103..  Training Loss: 0.822..  Validation Loss: 0.594..  Validation Accuracy: 0.836\n",
            "Batch: 34/103..  Training Loss: 1.032..  Validation Loss: 0.717..  Validation Accuracy: 0.814\n",
            "Batch: 54/103..  Training Loss: 1.061..  Validation Loss: 0.710..  Validation Accuracy: 0.818\n",
            "Batch: 74/103..  Training Loss: 1.082..  Validation Loss: 0.675..  Validation Accuracy: 0.828\n",
            "Batch: 94/103..  Training Loss: 1.035..  Validation Loss: 0.681..  Validation Accuracy: 0.821\n",
            "--> Epoch 3 costs 482.60739064216614 seconds\n",
            "- Epoch 4\n",
            "Batch: 11/103..  Training Loss: 0.538..  Validation Loss: 0.699..  Validation Accuracy: 0.827\n",
            "Batch: 31/103..  Training Loss: 1.048..  Validation Loss: 0.755..  Validation Accuracy: 0.827\n",
            "Batch: 51/103..  Training Loss: 1.054..  Validation Loss: 0.702..  Validation Accuracy: 0.824\n",
            "Batch: 71/103..  Training Loss: 0.870..  Validation Loss: 0.684..  Validation Accuracy: 0.835\n",
            "Batch: 91/103..  Training Loss: 1.158..  Validation Loss: 0.722..  Validation Accuracy: 0.820\n",
            "--> Epoch 4 costs 482.22848749160767 seconds\n",
            "- Epoch 5\n",
            "Batch: 8/103..  Training Loss: 0.411..  Validation Loss: 0.668..  Validation Accuracy: 0.837\n",
            "Batch: 28/103..  Training Loss: 1.016..  Validation Loss: 0.660..  Validation Accuracy: 0.847\n",
            "Batch: 48/103..  Training Loss: 1.108..  Validation Loss: 0.623..  Validation Accuracy: 0.847\n",
            "Batch: 68/103..  Training Loss: 1.055..  Validation Loss: 0.643..  Validation Accuracy: 0.833\n",
            "Batch: 88/103..  Training Loss: 1.027..  Validation Loss: 0.652..  Validation Accuracy: 0.854\n",
            "--> Epoch 5 costs 482.5364902019501 seconds\n",
            "- Epoch 6\n",
            "Batch: 5/103..  Training Loss: 0.288..  Validation Loss: 0.687..  Validation Accuracy: 0.842\n",
            "Batch: 25/103..  Training Loss: 0.908..  Validation Loss: 0.654..  Validation Accuracy: 0.854\n",
            "Batch: 45/103..  Training Loss: 0.894..  Validation Loss: 0.674..  Validation Accuracy: 0.845\n",
            "Batch: 65/103..  Training Loss: 1.000..  Validation Loss: 0.627..  Validation Accuracy: 0.848\n",
            "Batch: 85/103..  Training Loss: 1.071..  Validation Loss: 0.677..  Validation Accuracy: 0.848\n",
            "--> Epoch 6 costs 482.9255232810974 seconds\n",
            "- Epoch 7\n",
            "Batch: 2/103..  Training Loss: 0.203..  Validation Loss: 0.708..  Validation Accuracy: 0.838\n",
            "Batch: 22/103..  Training Loss: 0.978..  Validation Loss: 0.677..  Validation Accuracy: 0.846\n",
            "Batch: 42/103..  Training Loss: 0.950..  Validation Loss: 0.608..  Validation Accuracy: 0.854\n",
            "Batch: 62/103..  Training Loss: 0.872..  Validation Loss: 0.708..  Validation Accuracy: 0.844\n",
            "Batch: 82/103..  Training Loss: 1.023..  Validation Loss: 0.711..  Validation Accuracy: 0.838\n",
            "Batch: 102/103..  Training Loss: 0.972..  Validation Loss: 0.681..  Validation Accuracy: 0.849\n",
            "--> Epoch 7 costs 517.246081829071 seconds\n",
            "- Epoch 8\n",
            "Batch: 19/103..  Training Loss: 1.086..  Validation Loss: 0.608..  Validation Accuracy: 0.855\n",
            "Batch: 39/103..  Training Loss: 0.941..  Validation Loss: 0.698..  Validation Accuracy: 0.845\n",
            "Batch: 59/103..  Training Loss: 1.057..  Validation Loss: 0.636..  Validation Accuracy: 0.852\n",
            "Batch: 79/103..  Training Loss: 0.984..  Validation Loss: 0.676..  Validation Accuracy: 0.854\n",
            "Batch: 99/103..  Training Loss: 1.047..  Validation Loss: 0.617..  Validation Accuracy: 0.862\n",
            "--> Epoch 8 costs 483.4587366580963 seconds\n",
            "- Epoch 9\n",
            "Batch: 16/103..  Training Loss: 0.717..  Validation Loss: 0.694..  Validation Accuracy: 0.836\n",
            "Batch: 36/103..  Training Loss: 1.098..  Validation Loss: 0.860..  Validation Accuracy: 0.839\n",
            "Batch: 56/103..  Training Loss: 1.055..  Validation Loss: 0.644..  Validation Accuracy: 0.858\n",
            "Batch: 76/103..  Training Loss: 1.124..  Validation Loss: 0.725..  Validation Accuracy: 0.854\n",
            "Batch: 96/103..  Training Loss: 0.922..  Validation Loss: 0.700..  Validation Accuracy: 0.852\n",
            "--> Epoch 9 costs 483.40849566459656 seconds\n",
            "- Epoch 10\n",
            "Batch: 13/103..  Training Loss: 0.683..  Validation Loss: 0.652..  Validation Accuracy: 0.872\n",
            "Batch: 33/103..  Training Loss: 0.984..  Validation Loss: 0.871..  Validation Accuracy: 0.839\n",
            "Batch: 53/103..  Training Loss: 1.216..  Validation Loss: 0.711..  Validation Accuracy: 0.854\n",
            "Batch: 73/103..  Training Loss: 1.165..  Validation Loss: 0.658..  Validation Accuracy: 0.870\n",
            "Batch: 93/103..  Training Loss: 1.002..  Validation Loss: 0.727..  Validation Accuracy: 0.851\n",
            "--> Epoch 10 costs 482.8372902870178 seconds\n",
            "Training time: 4900.042523860931\n"
          ]
        }
      ]
    },
    {
      "cell_type": "code",
      "source": [
        "def save_checkpoint(model):\n",
        "  model.class_to_idx = training_set.class_to_idx\n",
        "  checkpoint = {'arch': \"vgg16\",\n",
        "                'class_to_idx': model.class_to_idx,\n",
        "                'model_state_dict': model.state_dict()\n",
        "                }\n",
        "  torch.save(checkpoint,'/content/drive/MyDrive/Untitled folder/PyTorch/checkpoint.pth')\n",
        "\n",
        "save_checkpoint(model)"
      ],
      "metadata": {
        "id": "ltPn_vKItRYp"
      },
      "execution_count": 40,
      "outputs": []
    },
    {
      "cell_type": "code",
      "source": [
        "def test_model(model, test_loader):\n",
        "  model.eval()\n",
        "  model.to('cuda')\n",
        "\n",
        "  with torch.no_grad():\n",
        "    accuracy = 0\n",
        "    for images, labels in iter(test_loader):\n",
        "      images, labels = images.to('cuda'), labels.to('cuda')\n",
        "      output = model.forward(images)\n",
        "      probabilities = torch.exp(output)\n",
        "      equality = (labels.data == probabilities.max(dim=1)[1])\n",
        "      accuracy += equality.type(torch.FloatTensor).mean()\n",
        "    print(\"Test Accuracy: {}\".format(accuracy/len(test_loader)))"
      ],
      "metadata": {
        "id": "_skRKsiCBUdQ"
      },
      "execution_count": 41,
      "outputs": []
    },
    {
      "cell_type": "code",
      "source": [
        "test_model(model, test_loader)"
      ],
      "metadata": {
        "colab": {
          "base_uri": "https://localhost:8080/"
        },
        "id": "poYmee1tBYWr",
        "outputId": "c4b91bf6-8910-434b-b8fe-640c5f8265f5"
      },
      "execution_count": 42,
      "outputs": [
        {
          "output_type": "stream",
          "name": "stdout",
          "text": [
            "Test Accuracy: 0.8199645280838013\n"
          ]
        }
      ]
    },
    {
      "cell_type": "code",
      "source": [
        ""
      ],
      "metadata": {
        "id": "rlbirhQ8BZ9B"
      },
      "execution_count": null,
      "outputs": []
    }
  ]
}