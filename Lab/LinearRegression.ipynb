{
  "cells": [
    {
      "cell_type": "code",
      "execution_count": null,
      "metadata": {
        "id": "SkKtJo4fbt2F"
      },
      "outputs": [],
      "source": [
        "import numpy as np"
      ]
    },
    {
      "cell_type": "markdown",
      "metadata": {
        "id": "qJclZ7BVbyyg"
      },
      "source": [
        "$f(x) = 4 + 3x$"
      ]
    },
    {
      "cell_type": "code",
      "execution_count": null,
      "metadata": {
        "id": "SABTjKl5b7Zc"
      },
      "outputs": [],
      "source": [
        "X = 2 * np.random.rand(100,1)\n",
        "# y ~ t\n",
        "y = 4 + 3 * X + np.random.rand(100,1)"
      ]
    },
    {
      "cell_type": "code",
      "execution_count": null,
      "metadata": {
        "id": "23wd8VPqcSS3"
      },
      "outputs": [],
      "source": [
        "import matplotlib.pyplot as plt\n",
        "import matplotlib as mpl"
      ]
    },
    {
      "cell_type": "code",
      "execution_count": null,
      "metadata": {
        "colab": {
          "base_uri": "https://localhost:8080/",
          "height": 284
        },
        "id": "MfMDRbq5cV7R",
        "outputId": "4c4bafdf-4405-4214-f540-7fb7e167ff79"
      },
      "outputs": [
        {
          "data": {
            "text/plain": [
              "[<matplotlib.lines.Line2D at 0x7f874e6b4710>]"
            ]
          },
          "execution_count": 10,
          "metadata": {},
          "output_type": "execute_result"
        },
        {
          "data": {
            "image/png": "[encoded data removed]",
            "text/plain": [
              "<Figure size 432x288 with 1 Axes>"
            ]
          },
          "metadata": {
            "needs_background": "light"
          },
          "output_type": "display_data"
        }
      ],
      "source": [
        "plt.plot(X, y, 'b.')"
      ]
    },
    {
      "cell_type": "code",
      "execution_count": null,
      "metadata": {
        "colab": {
          "base_uri": "https://localhost:8080/"
        },
        "id": "tkaAYulXcs54",
        "outputId": "dbb0cecb-5552-40ad-e06c-862068ce96bb"
      },
      "outputs": [
        {
          "data": {
            "text/plain": [
              "array([[1.        , 1.12316705],\n",
              "       [1.        , 1.60238902],\n",
              "       [1.        , 0.85369338],\n",
              "       [1.        , 0.37273712],\n",
              "       [1.        , 0.26878207],\n",
              "       [1.        , 0.73994803],\n",
              "       [1.        , 0.56310097],\n",
              "       [1.        , 1.89859316],\n",
              "       [1.        , 0.97452248],\n",
              "       [1.        , 0.03941716],\n",
              "       [1.        , 1.10463061],\n",
              "       [1.        , 0.54578723],\n",
              "       [1.        , 0.44939862],\n",
              "       [1.        , 0.03854856],\n",
              "       [1.        , 0.24830807],\n",
              "       [1.        , 1.53123234],\n",
              "       [1.        , 1.51164875],\n",
              "       [1.        , 0.18590369],\n",
              "       [1.        , 1.55827688],\n",
              "       [1.        , 0.82752983],\n",
              "       [1.        , 1.89809364],\n",
              "       [1.        , 1.79040235],\n",
              "       [1.        , 1.70922659],\n",
              "       [1.        , 1.9151199 ],\n",
              "       [1.        , 1.98282723],\n",
              "       [1.        , 0.72637367],\n",
              "       [1.        , 1.82820046],\n",
              "       [1.        , 1.33622049],\n",
              "       [1.        , 1.41623069],\n",
              "       [1.        , 1.15014982],\n",
              "       [1.        , 0.7427318 ],\n",
              "       [1.        , 0.18688176],\n",
              "       [1.        , 0.60260236],\n",
              "       [1.        , 1.83748567],\n",
              "       [1.        , 1.50105347],\n",
              "       [1.        , 1.40619213],\n",
              "       [1.        , 1.36858906],\n",
              "       [1.        , 1.58369241],\n",
              "       [1.        , 0.85060299],\n",
              "       [1.        , 1.01962446],\n",
              "       [1.        , 0.79312921],\n",
              "       [1.        , 1.72834273],\n",
              "       [1.        , 1.77247198],\n",
              "       [1.        , 1.69268856],\n",
              "       [1.        , 1.71449712],\n",
              "       [1.        , 0.24679888],\n",
              "       [1.        , 1.70443524],\n",
              "       [1.        , 1.14122318],\n",
              "       [1.        , 1.99794158],\n",
              "       [1.        , 1.63453359],\n",
              "       [1.        , 1.06322483],\n",
              "       [1.        , 1.46466898],\n",
              "       [1.        , 0.9308871 ],\n",
              "       [1.        , 1.82005512],\n",
              "       [1.        , 1.04779872],\n",
              "       [1.        , 1.93192078],\n",
              "       [1.        , 1.85388942],\n",
              "       [1.        , 1.66123618],\n",
              "       [1.        , 1.01488761],\n",
              "       [1.        , 0.05568149],\n",
              "       [1.        , 1.04384651],\n",
              "       [1.        , 0.78403195],\n",
              "       [1.        , 1.93265718],\n",
              "       [1.        , 1.22787683],\n",
              "       [1.        , 1.42922485],\n",
              "       [1.        , 1.44918666],\n",
              "       [1.        , 0.11328409],\n",
              "       [1.        , 1.46516025],\n",
              "       [1.        , 1.28982133],\n",
              "       [1.        , 1.57693555],\n",
              "       [1.        , 1.85266328],\n",
              "       [1.        , 1.49856899],\n",
              "       [1.        , 0.62473538],\n",
              "       [1.        , 1.04010327],\n",
              "       [1.        , 0.94223063],\n",
              "       [1.        , 1.60819743],\n",
              "       [1.        , 1.67397114],\n",
              "       [1.        , 1.15947264],\n",
              "       [1.        , 1.44886933],\n",
              "       [1.        , 1.75509997],\n",
              "       [1.        , 0.29884887],\n",
              "       [1.        , 0.45666794],\n",
              "       [1.        , 1.70148668],\n",
              "       [1.        , 1.56098891],\n",
              "       [1.        , 0.41031156],\n",
              "       [1.        , 1.60352562],\n",
              "       [1.        , 1.84214281],\n",
              "       [1.        , 1.29746205],\n",
              "       [1.        , 1.24377208],\n",
              "       [1.        , 0.86943399],\n",
              "       [1.        , 0.33878443],\n",
              "       [1.        , 1.38278606],\n",
              "       [1.        , 0.54079931],\n",
              "       [1.        , 0.43768403],\n",
              "       [1.        , 1.2218594 ],\n",
              "       [1.        , 0.93602799],\n",
              "       [1.        , 0.5077206 ],\n",
              "       [1.        , 1.21508367],\n",
              "       [1.        , 1.13379131],\n",
              "       [1.        , 1.01918741]])"
            ]
          },
          "execution_count": 14,
          "metadata": {},
          "output_type": "execute_result"
        }
      ],
      "source": [
        "X_b = np.c_[np.ones((100, 1)), X]\n",
        "X_b"
      ]
    },
    {
      "cell_type": "markdown",
      "metadata": {
        "id": "MR9y80c4cYi1"
      },
      "source": [
        "$\\textbf{w}=(X^TX)^{-1}X^Ty$"
      ]
    },
    {
      "cell_type": "code",
      "execution_count": null,
      "metadata": {
        "id": "8v104pZTcxAv"
      },
      "outputs": [],
      "source": [
        "w_best = np.linalg.inv(X_b.T.dot(X_b)).dot(X_b.T).dot(y)"
      ]
    },
    {
      "cell_type": "code",
      "execution_count": null,
      "metadata": {
        "colab": {
          "base_uri": "https://localhost:8080/"
        },
        "id": "1ZtjWw9JdU4N",
        "outputId": "1907a097-7f00-4c99-f978-b6a2da27e15c"
      },
      "outputs": [
        {
          "data": {
            "text/plain": [
              "array([[4.53790614],\n",
              "       [3.00638697]])"
            ]
          },
          "execution_count": 16,
          "metadata": {},
          "output_type": "execute_result"
        }
      ],
      "source": [
        "w_best"
      ]
    },
    {
      "cell_type": "markdown",
      "metadata": {
        "id": "wqIMWjmxetln"
      },
      "source": [
        "$f(x) = 4 + 3x$"
      ]
    },
    {
      "cell_type": "code",
      "execution_count": null,
      "metadata": {
        "id": "Aqu9iNu0dWtd"
      },
      "outputs": [],
      "source": [
        "X_new = np.array([[0], [2]])"
      ]
    },
    {
      "cell_type": "code",
      "execution_count": null,
      "metadata": {
        "colab": {
          "base_uri": "https://localhost:8080/"
        },
        "id": "qhIY8tHUdxMg",
        "outputId": "32d574c3-ebdb-45fa-ad2a-9dfb5161099a"
      },
      "outputs": [
        {
          "data": {
            "text/plain": [
              "array([[1., 0.],\n",
              "       [1., 2.]])"
            ]
          },
          "execution_count": 19,
          "metadata": {},
          "output_type": "execute_result"
        }
      ],
      "source": [
        "X_new_b = np.c_[np.ones((2, 1)), X_new]\n",
        "X_new_b"
      ]
    },
    {
      "cell_type": "markdown",
      "metadata": {
        "id": "3OoR4NSQeGrF"
      },
      "source": [
        "$\\hat{\\textbf{y}}=X\\textbf{w}$"
      ]
    },
    {
      "cell_type": "code",
      "execution_count": null,
      "metadata": {
        "colab": {
          "base_uri": "https://localhost:8080/"
        },
        "id": "5JRIRjfFdxnn",
        "outputId": "841b8ea6-1f47-4eb5-8192-30cabaa2fc92"
      },
      "outputs": [
        {
          "data": {
            "text/plain": [
              "array([[ 4.53790614],\n",
              "       [10.55068008]])"
            ]
          },
          "execution_count": 20,
          "metadata": {},
          "output_type": "execute_result"
        }
      ],
      "source": [
        "y_predict = X_new_b.dot(w_best)\n",
        "y_predict"
      ]
    },
    {
      "cell_type": "code",
      "execution_count": null,
      "metadata": {
        "colab": {
          "base_uri": "https://localhost:8080/",
          "height": 284
        },
        "id": "7hziJERzeFHm",
        "outputId": "d0ebc355-4188-410b-8b7b-1a0e5661a998"
      },
      "outputs": [
        {
          "data": {
            "text/plain": [
              "[<matplotlib.lines.Line2D at 0x7f874a48ca50>]"
            ]
          },
          "execution_count": 22,
          "metadata": {},
          "output_type": "execute_result"
        },
        {
          "data": {
            "image/png": "[encoded data removed]",
            "text/plain": [
              "<Figure size 432x288 with 1 Axes>"
            ]
          },
          "metadata": {
            "needs_background": "light"
          },
          "output_type": "display_data"
        }
      ],
      "source": [
        "plt.plot(X, y, 'b.')\n",
        "plt.plot(X_new, y_predict, 'r-')"
      ]
    },
    {
      "cell_type": "code",
      "execution_count": null,
      "metadata": {
        "colab": {
          "base_uri": "https://localhost:8080/"
        },
        "id": "8mlb_ogIefHQ",
        "outputId": "6755d2e8-58f6-4dd0-ecc8-b27026fc1aeb"
      },
      "outputs": [
        {
          "data": {
            "text/plain": [
              "LinearRegression(copy_X=True, fit_intercept=True, n_jobs=None, normalize=False)"
            ]
          },
          "execution_count": 23,
          "metadata": {},
          "output_type": "execute_result"
        }
      ],
      "source": [
        "from sklearn.linear_model import LinearRegression\n",
        "model = LinearRegression()\n",
        "model.fit(X, y)"
      ]
    },
    {
      "cell_type": "code",
      "execution_count": null,
      "metadata": {
        "colab": {
          "base_uri": "https://localhost:8080/"
        },
        "id": "HKGwEFOufBfl",
        "outputId": "118a1fef-e10f-4228-de88-a787e8a635d7"
      },
      "outputs": [
        {
          "data": {
            "text/plain": [
              "(array([4.53790614]), array([[3.00638697]]))"
            ]
          },
          "execution_count": 24,
          "metadata": {},
          "output_type": "execute_result"
        }
      ],
      "source": [
        "model.intercept_, model.coef_"
      ]
    },
    {
      "cell_type": "code",
      "execution_count": null,
      "metadata": {
        "colab": {
          "base_uri": "https://localhost:8080/"
        },
        "id": "b7FTZS12fIwO",
        "outputId": "ee4b25d3-aa80-447c-b9a4-160d95cc0b77"
      },
      "outputs": [
        {
          "data": {
            "text/plain": [
              "array([[4.53790614],\n",
              "       [3.00638697]])"
            ]
          },
          "execution_count": 25,
          "metadata": {},
          "output_type": "execute_result"
        }
      ],
      "source": [
        "w_best"
      ]
    },
    {
      "cell_type": "code",
      "execution_count": null,
      "metadata": {
        "colab": {
          "base_uri": "https://localhost:8080/"
        },
        "id": "_KVAnZQWfKGV",
        "outputId": "f7e9f82f-ad58-4db7-adb1-f5b80ca34654"
      },
      "outputs": [
        {
          "data": {
            "text/plain": [
              "array([[ 4.53790614],\n",
              "       [10.55068008]])"
            ]
          },
          "execution_count": 26,
          "metadata": {},
          "output_type": "execute_result"
        }
      ],
      "source": [
        "model.predict(X_new)"
      ]
    },
    {
      "cell_type": "code",
      "execution_count": null,
      "metadata": {
        "colab": {
          "base_uri": "https://localhost:8080/"
        },
        "id": "whAHdESnfYPW",
        "outputId": "be27459f-7a28-4d22-ac8d-7739b7b97e01"
      },
      "outputs": [
        {
          "data": {
            "text/plain": [
              "array([[ 4.53790614],\n",
              "       [10.55068008]])"
            ]
          },
          "execution_count": 27,
          "metadata": {},
          "output_type": "execute_result"
        }
      ],
      "source": [
        "y_predict"
      ]
    },
    {
      "cell_type": "code",
      "execution_count": null,
      "metadata": {
        "id": "_R6mdMfhfaE-"
      },
      "outputs": [],
      "source": []
    }
  ],
  "metadata": {
    "colab": {
      "name": "LinearRegression.ipynb",
      "provenance": []
    },
    "kernelspec": {
      "display_name": "Python 3.9.13 64-bit (microsoft store)",
      "language": "python",
      "name": "python3"
    },
    "language_info": {
      "name": "python",
      "version": "3.9.13"
    },
    "vscode": {
      "interpreter": {
        "hash": "f74eec0e85527e47e49ba00d9fd4381b2c1d66bcd05bdbcab2a56c62f2dbbf66"
      }
    }
  },
  "nbformat": 4,
  "nbformat_minor": 0
}
